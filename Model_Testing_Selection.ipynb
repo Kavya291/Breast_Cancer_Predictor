{
 "cells": [
  {
   "cell_type": "code",
   "execution_count": 1,
   "id": "e91c03a3-570a-472e-93e2-e26e4b74c55a",
   "metadata": {},
   "outputs": [],
   "source": [
    "import pandas as pd\n",
    "import numpy as np\n",
    "import matplotlib.pyplot as plt\n",
    "import seaborn as sns\n",
    "import os\n",
    "import warnings\n",
    "warnings.filterwarnings('ignore')"
   ]
  },
  {
   "cell_type": "code",
   "execution_count": 2,
   "id": "c8f308bd-42b6-4c69-a7f7-694b00a8dd23",
   "metadata": {},
   "outputs": [],
   "source": [
    "from sklearn.model_selection import train_test_split\n",
    "from sklearn.preprocessing import StandardScaler\n",
    "from sklearn.linear_model import LogisticRegression\n",
    "from sklearn.metrics import confusion_matrix\n",
    "from sklearn.metrics import accuracy_score\n",
    "from sklearn.tree import DecisionTreeClassifier\n",
    "from sklearn.ensemble import RandomForestClassifier\n",
    "from sklearn.metrics import classification_report\n",
    "from sklearn.neighbors import KNeighborsClassifier\n",
    "from sklearn.svm import SVC\n",
    "from sklearn.naive_bayes import GaussianNB\n",
    "from sklearn.model_selection import KFold\n",
    "from sklearn.model_selection import cross_val_score\n",
    "from sklearn.metrics import precision_score\n",
    "from sklearn.metrics import f1_score\n",
    "from sklearn.metrics import recall_score\n",
    "from sklearn.model_selection import GridSearchCV\n",
    "from sklearn.ensemble import GradientBoostingClassifier"
   ]
  },
  {
   "cell_type": "code",
   "execution_count": 3,
   "id": "7244001f-e627-4ce4-aeb8-ed68d5907c58",
   "metadata": {},
   "outputs": [
    {
     "data": {
      "text/plain": [
       "(569, 12)"
      ]
     },
     "execution_count": 3,
     "metadata": {},
     "output_type": "execute_result"
    }
   ],
   "source": [
    "df = pd.read_csv('Data/modified_data.csv')\n",
    "df.shape"
   ]
  },
  {
   "cell_type": "code",
   "execution_count": 4,
   "id": "2a685165-b3ea-40aa-aee7-15528362d202",
   "metadata": {},
   "outputs": [
    {
     "data": {
      "text/html": [
       "<div>\n",
       "<style scoped>\n",
       "    .dataframe tbody tr th:only-of-type {\n",
       "        vertical-align: middle;\n",
       "    }\n",
       "\n",
       "    .dataframe tbody tr th {\n",
       "        vertical-align: top;\n",
       "    }\n",
       "\n",
       "    .dataframe thead th {\n",
       "        text-align: right;\n",
       "    }\n",
       "</style>\n",
       "<table border=\"1\" class=\"dataframe\">\n",
       "  <thead>\n",
       "    <tr style=\"text-align: right;\">\n",
       "      <th></th>\n",
       "      <th>diagnosis</th>\n",
       "      <th>radius_mean</th>\n",
       "      <th>texture_mean</th>\n",
       "      <th>smoothness_mean</th>\n",
       "      <th>compactness_mean</th>\n",
       "      <th>symmetry_mean</th>\n",
       "      <th>radius_se</th>\n",
       "      <th>texture_se</th>\n",
       "      <th>smoothness_se</th>\n",
       "      <th>compactness_se</th>\n",
       "      <th>symmetry_se</th>\n",
       "      <th>fractal_dimension_se</th>\n",
       "    </tr>\n",
       "  </thead>\n",
       "  <tbody>\n",
       "    <tr>\n",
       "      <th>0</th>\n",
       "      <td>1</td>\n",
       "      <td>17.99</td>\n",
       "      <td>10.38</td>\n",
       "      <td>0.11840</td>\n",
       "      <td>0.27760</td>\n",
       "      <td>0.2419</td>\n",
       "      <td>1.0950</td>\n",
       "      <td>0.9053</td>\n",
       "      <td>0.006399</td>\n",
       "      <td>0.04904</td>\n",
       "      <td>0.03003</td>\n",
       "      <td>0.006193</td>\n",
       "    </tr>\n",
       "    <tr>\n",
       "      <th>1</th>\n",
       "      <td>1</td>\n",
       "      <td>20.57</td>\n",
       "      <td>17.77</td>\n",
       "      <td>0.08474</td>\n",
       "      <td>0.07864</td>\n",
       "      <td>0.1812</td>\n",
       "      <td>0.5435</td>\n",
       "      <td>0.7339</td>\n",
       "      <td>0.005225</td>\n",
       "      <td>0.01308</td>\n",
       "      <td>0.01389</td>\n",
       "      <td>0.003532</td>\n",
       "    </tr>\n",
       "    <tr>\n",
       "      <th>2</th>\n",
       "      <td>1</td>\n",
       "      <td>19.69</td>\n",
       "      <td>21.25</td>\n",
       "      <td>0.10960</td>\n",
       "      <td>0.15990</td>\n",
       "      <td>0.2069</td>\n",
       "      <td>0.7456</td>\n",
       "      <td>0.7869</td>\n",
       "      <td>0.006150</td>\n",
       "      <td>0.04006</td>\n",
       "      <td>0.02250</td>\n",
       "      <td>0.004571</td>\n",
       "    </tr>\n",
       "    <tr>\n",
       "      <th>3</th>\n",
       "      <td>1</td>\n",
       "      <td>11.42</td>\n",
       "      <td>20.38</td>\n",
       "      <td>0.14250</td>\n",
       "      <td>0.28390</td>\n",
       "      <td>0.2597</td>\n",
       "      <td>0.4956</td>\n",
       "      <td>1.1560</td>\n",
       "      <td>0.009110</td>\n",
       "      <td>0.07458</td>\n",
       "      <td>0.05963</td>\n",
       "      <td>0.009208</td>\n",
       "    </tr>\n",
       "    <tr>\n",
       "      <th>4</th>\n",
       "      <td>1</td>\n",
       "      <td>20.29</td>\n",
       "      <td>14.34</td>\n",
       "      <td>0.10030</td>\n",
       "      <td>0.13280</td>\n",
       "      <td>0.1809</td>\n",
       "      <td>0.7572</td>\n",
       "      <td>0.7813</td>\n",
       "      <td>0.011490</td>\n",
       "      <td>0.02461</td>\n",
       "      <td>0.01756</td>\n",
       "      <td>0.005115</td>\n",
       "    </tr>\n",
       "  </tbody>\n",
       "</table>\n",
       "</div>"
      ],
      "text/plain": [
       "   diagnosis  radius_mean  texture_mean  smoothness_mean  compactness_mean  \\\n",
       "0          1        17.99         10.38          0.11840           0.27760   \n",
       "1          1        20.57         17.77          0.08474           0.07864   \n",
       "2          1        19.69         21.25          0.10960           0.15990   \n",
       "3          1        11.42         20.38          0.14250           0.28390   \n",
       "4          1        20.29         14.34          0.10030           0.13280   \n",
       "\n",
       "   symmetry_mean  radius_se  texture_se  smoothness_se  compactness_se  \\\n",
       "0         0.2419     1.0950      0.9053       0.006399         0.04904   \n",
       "1         0.1812     0.5435      0.7339       0.005225         0.01308   \n",
       "2         0.2069     0.7456      0.7869       0.006150         0.04006   \n",
       "3         0.2597     0.4956      1.1560       0.009110         0.07458   \n",
       "4         0.1809     0.7572      0.7813       0.011490         0.02461   \n",
       "\n",
       "   symmetry_se  fractal_dimension_se  \n",
       "0      0.03003              0.006193  \n",
       "1      0.01389              0.003532  \n",
       "2      0.02250              0.004571  \n",
       "3      0.05963              0.009208  \n",
       "4      0.01756              0.005115  "
      ]
     },
     "execution_count": 4,
     "metadata": {},
     "output_type": "execute_result"
    }
   ],
   "source": [
    "df.head()"
   ]
  },
  {
   "cell_type": "markdown",
   "id": "a3a7b581-0db3-495a-87e2-3c3d7da20a7c",
   "metadata": {},
   "source": [
    "## Test Train Split"
   ]
  },
  {
   "cell_type": "code",
   "execution_count": 6,
   "id": "8ac651fa-0e43-4431-a484-239d381b5416",
   "metadata": {},
   "outputs": [],
   "source": [
    "X=df.drop(['diagnosis'],axis=1)\n",
    "y = df['diagnosis']"
   ]
  },
  {
   "cell_type": "code",
   "execution_count": 7,
   "id": "fc02eac4-26f6-4724-9cdc-074a7ba91666",
   "metadata": {},
   "outputs": [],
   "source": [
    "X_train, X_test,y_train, y_test=train_test_split(X,y,test_size=0.3,random_state=40) #test train split"
   ]
  },
  {
   "cell_type": "markdown",
   "id": "da683619-2a6a-4f20-9a18-bccb6871cff6",
   "metadata": {},
   "source": [
    "## Feature Scaling "
   ]
  },
  {
   "cell_type": "code",
   "execution_count": 9,
   "id": "64a0e96b-ffeb-4800-8b0c-7036b7b8e024",
   "metadata": {},
   "outputs": [],
   "source": [
    "scaler = StandardScaler()\n",
    "\n",
    "X_train_scaled = scaler.fit_transform(X_train)\n",
    "\n",
    "X_test_scaled = scaler.transform(X_test)"
   ]
  },
  {
   "cell_type": "markdown",
   "id": "39e5f3d7-c0ef-4393-95fc-cd54e5f28d4d",
   "metadata": {},
   "source": [
    "## 1. Logistic Regression"
   ]
  },
  {
   "cell_type": "code",
   "execution_count": 11,
   "id": "56b49ceb-9be6-4f7a-99e4-fe9bd809c830",
   "metadata": {},
   "outputs": [],
   "source": [
    "model_1 = LogisticRegression()\n",
    "\n",
    "model_1.fit(X_train_scaled, y_train)\n",
    "y_pred = model_1.predict(X_test_scaled)"
   ]
  },
  {
   "cell_type": "code",
   "execution_count": 12,
   "id": "2f38fb5d-7061-45d5-a052-f1b34c335acb",
   "metadata": {
    "scrolled": true
   },
   "outputs": [
    {
     "data": {
      "text/plain": [
       "array([[110,   5],\n",
       "       [  3,  53]])"
      ]
     },
     "execution_count": 12,
     "metadata": {},
     "output_type": "execute_result"
    }
   ],
   "source": [
    "cm=confusion_matrix(y_test,y_pred)\n",
    "cm"
   ]
  },
  {
   "cell_type": "code",
   "execution_count": 13,
   "id": "5c56ff85-c405-45a5-b5b7-eb8a0b32dd53",
   "metadata": {},
   "outputs": [
    {
     "data": {
      "text/plain": [
       "0.9532163742690059"
      ]
     },
     "execution_count": 13,
     "metadata": {},
     "output_type": "execute_result"
    }
   ],
   "source": [
    "accuracy = accuracy_score(y_test, y_pred)\n",
    "accuracy"
   ]
  },
  {
   "cell_type": "code",
   "execution_count": 14,
   "id": "b7164863-9a9e-4997-817a-5d5387ed5c88",
   "metadata": {},
   "outputs": [
    {
     "data": {
      "text/plain": [
       "0.9137931034482759"
      ]
     },
     "execution_count": 14,
     "metadata": {},
     "output_type": "execute_result"
    }
   ],
   "source": [
    "precision = precision_score(y_test, y_pred)\n",
    "precision"
   ]
  },
  {
   "cell_type": "code",
   "execution_count": 15,
   "id": "6c2dce0d-be81-4225-bae9-e58a927b8abc",
   "metadata": {},
   "outputs": [
    {
     "data": {
      "text/plain": [
       "0.9298245614035087"
      ]
     },
     "execution_count": 15,
     "metadata": {},
     "output_type": "execute_result"
    }
   ],
   "source": [
    "f1 = f1_score(y_test, y_pred)\n",
    "f1"
   ]
  },
  {
   "cell_type": "code",
   "execution_count": 16,
   "id": "bcc0a873-67e7-44e8-8104-36f8578d53f4",
   "metadata": {},
   "outputs": [
    {
     "data": {
      "text/plain": [
       "0.9464285714285714"
      ]
     },
     "execution_count": 16,
     "metadata": {},
     "output_type": "execute_result"
    }
   ],
   "source": [
    "recall = recall_score(y_test, y_pred)\n",
    "recall"
   ]
  },
  {
   "cell_type": "code",
   "execution_count": 17,
   "id": "e44e1998-e54e-4ed5-9b3a-32d5db3a2c8d",
   "metadata": {},
   "outputs": [],
   "source": [
    "columns = ['Logistic_Regression']\n",
    "index = ['f1_score', 'Precision', 'Accuracy', 'recall']\n",
    "data=[[f1],\n",
    "      [precision],\n",
    "      [accuracy],\n",
    "      [recall]]\n",
    "\n",
    "scores = pd.DataFrame(data, columns=columns, index=index)"
   ]
  },
  {
   "cell_type": "code",
   "execution_count": 18,
   "id": "da298fd7-5742-4e8d-9338-10784833d7c1",
   "metadata": {},
   "outputs": [
    {
     "data": {
      "text/html": [
       "<div>\n",
       "<style scoped>\n",
       "    .dataframe tbody tr th:only-of-type {\n",
       "        vertical-align: middle;\n",
       "    }\n",
       "\n",
       "    .dataframe tbody tr th {\n",
       "        vertical-align: top;\n",
       "    }\n",
       "\n",
       "    .dataframe thead th {\n",
       "        text-align: right;\n",
       "    }\n",
       "</style>\n",
       "<table border=\"1\" class=\"dataframe\">\n",
       "  <thead>\n",
       "    <tr style=\"text-align: right;\">\n",
       "      <th></th>\n",
       "      <th>Logistic_Regression</th>\n",
       "    </tr>\n",
       "  </thead>\n",
       "  <tbody>\n",
       "    <tr>\n",
       "      <th>f1_score</th>\n",
       "      <td>0.929825</td>\n",
       "    </tr>\n",
       "    <tr>\n",
       "      <th>Precision</th>\n",
       "      <td>0.913793</td>\n",
       "    </tr>\n",
       "    <tr>\n",
       "      <th>Accuracy</th>\n",
       "      <td>0.953216</td>\n",
       "    </tr>\n",
       "    <tr>\n",
       "      <th>recall</th>\n",
       "      <td>0.946429</td>\n",
       "    </tr>\n",
       "  </tbody>\n",
       "</table>\n",
       "</div>"
      ],
      "text/plain": [
       "           Logistic_Regression\n",
       "f1_score              0.929825\n",
       "Precision             0.913793\n",
       "Accuracy              0.953216\n",
       "recall                0.946429"
      ]
     },
     "execution_count": 18,
     "metadata": {},
     "output_type": "execute_result"
    }
   ],
   "source": [
    "scores.head()"
   ]
  },
  {
   "cell_type": "markdown",
   "id": "32ec5661-a366-4eb4-9ea4-6bca4f21dc5a",
   "metadata": {},
   "source": [
    "## 2. Decision Trees"
   ]
  },
  {
   "cell_type": "code",
   "execution_count": 20,
   "id": "f0270865-4833-4f18-b1bb-cae8e14a4336",
   "metadata": {},
   "outputs": [],
   "source": [
    "decision_tree = DecisionTreeClassifier()\n",
    "model_2 = decision_tree.fit(X_train,y_train)\n",
    "y_pred_2 = model_2.predict(X_test)"
   ]
  },
  {
   "cell_type": "code",
   "execution_count": 21,
   "id": "dc386d84-136d-4714-a5ca-d98ffeacd537",
   "metadata": {},
   "outputs": [
    {
     "data": {
      "text/plain": [
       "array([[109,   6],\n",
       "       [ 10,  46]])"
      ]
     },
     "execution_count": 21,
     "metadata": {},
     "output_type": "execute_result"
    }
   ],
   "source": [
    "cm_2=confusion_matrix(y_test,y_pred_2)\n",
    "cm_2"
   ]
  },
  {
   "cell_type": "code",
   "execution_count": 22,
   "id": "58679bce-d85a-482a-bf1c-8ccb73aa1925",
   "metadata": {},
   "outputs": [
    {
     "data": {
      "text/plain": [
       "0.9064327485380117"
      ]
     },
     "execution_count": 22,
     "metadata": {},
     "output_type": "execute_result"
    }
   ],
   "source": [
    "accuracy_2 = accuracy_score(y_test, y_pred_2)\n",
    "accuracy_2"
   ]
  },
  {
   "cell_type": "code",
   "execution_count": 23,
   "id": "e61d7fdd-fd87-40f6-8c2f-43b37e27e3b5",
   "metadata": {},
   "outputs": [
    {
     "data": {
      "text/plain": [
       "0.8846153846153846"
      ]
     },
     "execution_count": 23,
     "metadata": {},
     "output_type": "execute_result"
    }
   ],
   "source": [
    "precision_2 = precision_score(y_test, y_pred_2)\n",
    "precision_2"
   ]
  },
  {
   "cell_type": "code",
   "execution_count": 24,
   "id": "ae6fb50a-748c-4d96-9daa-bd179c51614e",
   "metadata": {},
   "outputs": [
    {
     "data": {
      "text/plain": [
       "0.8518518518518519"
      ]
     },
     "execution_count": 24,
     "metadata": {},
     "output_type": "execute_result"
    }
   ],
   "source": [
    "f1_2 = f1_score(y_test, y_pred_2)\n",
    "f1_2"
   ]
  },
  {
   "cell_type": "code",
   "execution_count": 25,
   "id": "b1944b31-f071-4dde-bbd7-d5ceac64ec3d",
   "metadata": {},
   "outputs": [
    {
     "data": {
      "text/plain": [
       "0.8214285714285714"
      ]
     },
     "execution_count": 25,
     "metadata": {},
     "output_type": "execute_result"
    }
   ],
   "source": [
    "recall_2 = recall_score(y_test, y_pred_2)\n",
    "recall_2"
   ]
  },
  {
   "cell_type": "code",
   "execution_count": 26,
   "id": "9969e908-42c0-4a3e-8484-7568923980c4",
   "metadata": {},
   "outputs": [],
   "source": [
    "scores['Decision Trees'] = [f1_2, precision_2, accuracy_2, recall_2]"
   ]
  },
  {
   "cell_type": "code",
   "execution_count": 27,
   "id": "0cf44e1b-78c3-4ecd-8726-fa13e0feb97d",
   "metadata": {},
   "outputs": [
    {
     "data": {
      "text/html": [
       "<div>\n",
       "<style scoped>\n",
       "    .dataframe tbody tr th:only-of-type {\n",
       "        vertical-align: middle;\n",
       "    }\n",
       "\n",
       "    .dataframe tbody tr th {\n",
       "        vertical-align: top;\n",
       "    }\n",
       "\n",
       "    .dataframe thead th {\n",
       "        text-align: right;\n",
       "    }\n",
       "</style>\n",
       "<table border=\"1\" class=\"dataframe\">\n",
       "  <thead>\n",
       "    <tr style=\"text-align: right;\">\n",
       "      <th></th>\n",
       "      <th>Logistic_Regression</th>\n",
       "      <th>Decision Trees</th>\n",
       "    </tr>\n",
       "  </thead>\n",
       "  <tbody>\n",
       "    <tr>\n",
       "      <th>f1_score</th>\n",
       "      <td>0.929825</td>\n",
       "      <td>0.851852</td>\n",
       "    </tr>\n",
       "    <tr>\n",
       "      <th>Precision</th>\n",
       "      <td>0.913793</td>\n",
       "      <td>0.884615</td>\n",
       "    </tr>\n",
       "    <tr>\n",
       "      <th>Accuracy</th>\n",
       "      <td>0.953216</td>\n",
       "      <td>0.906433</td>\n",
       "    </tr>\n",
       "    <tr>\n",
       "      <th>recall</th>\n",
       "      <td>0.946429</td>\n",
       "      <td>0.821429</td>\n",
       "    </tr>\n",
       "  </tbody>\n",
       "</table>\n",
       "</div>"
      ],
      "text/plain": [
       "           Logistic_Regression  Decision Trees\n",
       "f1_score              0.929825        0.851852\n",
       "Precision             0.913793        0.884615\n",
       "Accuracy              0.953216        0.906433\n",
       "recall                0.946429        0.821429"
      ]
     },
     "execution_count": 27,
     "metadata": {},
     "output_type": "execute_result"
    }
   ],
   "source": [
    "scores.head()"
   ]
  },
  {
   "cell_type": "markdown",
   "id": "e42db6fa-bd24-4e61-9ae3-d71eeee21b22",
   "metadata": {},
   "source": [
    "## 3. Random Forest"
   ]
  },
  {
   "cell_type": "code",
   "execution_count": 29,
   "id": "63a3f593-d7bd-4ff7-8d4d-6ad9b69ac524",
   "metadata": {},
   "outputs": [],
   "source": [
    "random_forest=RandomForestClassifier()\n",
    "model_3 = random_forest.fit(X_train, y_train)\n",
    "y_pred_3 = model_3.predict(X_test)"
   ]
  },
  {
   "cell_type": "code",
   "execution_count": 30,
   "id": "7c84d3a4-ee09-4e61-a2a4-ca44e11f41f2",
   "metadata": {},
   "outputs": [
    {
     "data": {
      "text/plain": [
       "array([[112,   3],\n",
       "       [  8,  48]])"
      ]
     },
     "execution_count": 30,
     "metadata": {},
     "output_type": "execute_result"
    }
   ],
   "source": [
    "cm_3=confusion_matrix(y_test,y_pred_3)\n",
    "cm_3"
   ]
  },
  {
   "cell_type": "code",
   "execution_count": 31,
   "id": "79efd768-0219-4c4c-ae33-37d80b1fac1e",
   "metadata": {},
   "outputs": [
    {
     "data": {
      "text/plain": [
       "0.935672514619883"
      ]
     },
     "execution_count": 31,
     "metadata": {},
     "output_type": "execute_result"
    }
   ],
   "source": [
    "accuracy_3 = accuracy_score(y_test, y_pred_3)\n",
    "accuracy_3"
   ]
  },
  {
   "cell_type": "code",
   "execution_count": 32,
   "id": "19cc2db0-a14f-4c0d-a838-ab3f91f74242",
   "metadata": {},
   "outputs": [
    {
     "data": {
      "text/plain": [
       "0.9411764705882353"
      ]
     },
     "execution_count": 32,
     "metadata": {},
     "output_type": "execute_result"
    }
   ],
   "source": [
    "precision_3 = precision_score(y_test, y_pred_3)\n",
    "precision_3"
   ]
  },
  {
   "cell_type": "code",
   "execution_count": 33,
   "id": "3ec4e29c-d6bf-4612-b66f-9d091eff15a5",
   "metadata": {},
   "outputs": [
    {
     "data": {
      "text/plain": [
       "0.897196261682243"
      ]
     },
     "execution_count": 33,
     "metadata": {},
     "output_type": "execute_result"
    }
   ],
   "source": [
    "f1_3 = f1_score(y_test, y_pred_3)\n",
    "f1_3"
   ]
  },
  {
   "cell_type": "code",
   "execution_count": 34,
   "id": "8993160a-145c-4dad-ae33-f6c9f2ae3857",
   "metadata": {},
   "outputs": [
    {
     "data": {
      "text/plain": [
       "0.8571428571428571"
      ]
     },
     "execution_count": 34,
     "metadata": {},
     "output_type": "execute_result"
    }
   ],
   "source": [
    "recall_3 = recall_score(y_test, y_pred_3)\n",
    "recall_3"
   ]
  },
  {
   "cell_type": "code",
   "execution_count": 35,
   "id": "09655aae-1c2b-4602-ac64-6680d3b07ea9",
   "metadata": {},
   "outputs": [],
   "source": [
    "scores['Random Forest'] = [f1_3, precision_3, accuracy_3, recall_3]"
   ]
  },
  {
   "cell_type": "code",
   "execution_count": 36,
   "id": "ca7fca98-e522-4bbe-a150-1d74e41a4265",
   "metadata": {},
   "outputs": [
    {
     "data": {
      "text/html": [
       "<div>\n",
       "<style scoped>\n",
       "    .dataframe tbody tr th:only-of-type {\n",
       "        vertical-align: middle;\n",
       "    }\n",
       "\n",
       "    .dataframe tbody tr th {\n",
       "        vertical-align: top;\n",
       "    }\n",
       "\n",
       "    .dataframe thead th {\n",
       "        text-align: right;\n",
       "    }\n",
       "</style>\n",
       "<table border=\"1\" class=\"dataframe\">\n",
       "  <thead>\n",
       "    <tr style=\"text-align: right;\">\n",
       "      <th></th>\n",
       "      <th>Logistic_Regression</th>\n",
       "      <th>Decision Trees</th>\n",
       "      <th>Random Forest</th>\n",
       "    </tr>\n",
       "  </thead>\n",
       "  <tbody>\n",
       "    <tr>\n",
       "      <th>f1_score</th>\n",
       "      <td>0.929825</td>\n",
       "      <td>0.851852</td>\n",
       "      <td>0.897196</td>\n",
       "    </tr>\n",
       "    <tr>\n",
       "      <th>Precision</th>\n",
       "      <td>0.913793</td>\n",
       "      <td>0.884615</td>\n",
       "      <td>0.941176</td>\n",
       "    </tr>\n",
       "    <tr>\n",
       "      <th>Accuracy</th>\n",
       "      <td>0.953216</td>\n",
       "      <td>0.906433</td>\n",
       "      <td>0.935673</td>\n",
       "    </tr>\n",
       "    <tr>\n",
       "      <th>recall</th>\n",
       "      <td>0.946429</td>\n",
       "      <td>0.821429</td>\n",
       "      <td>0.857143</td>\n",
       "    </tr>\n",
       "  </tbody>\n",
       "</table>\n",
       "</div>"
      ],
      "text/plain": [
       "           Logistic_Regression  Decision Trees  Random Forest\n",
       "f1_score              0.929825        0.851852       0.897196\n",
       "Precision             0.913793        0.884615       0.941176\n",
       "Accuracy              0.953216        0.906433       0.935673\n",
       "recall                0.946429        0.821429       0.857143"
      ]
     },
     "execution_count": 36,
     "metadata": {},
     "output_type": "execute_result"
    }
   ],
   "source": [
    "scores.head()"
   ]
  },
  {
   "cell_type": "markdown",
   "id": "fec5dfb1-d329-4798-88d2-3c1d741d4186",
   "metadata": {},
   "source": [
    "## 4. SVM (Support Vector Machine)"
   ]
  },
  {
   "cell_type": "code",
   "execution_count": 38,
   "id": "3f825a44-a8b8-4561-a375-0cc356049433",
   "metadata": {},
   "outputs": [],
   "source": [
    "model_4 = SVC(kernel='linear', random_state=40)  # with RBF kernel\n",
    "model_4.fit(X_train, y_train)\n",
    "y_pred_4 = model_4.predict(X_test)"
   ]
  },
  {
   "cell_type": "code",
   "execution_count": 39,
   "id": "2f843517-62a8-4a8f-95a0-4238442b28a6",
   "metadata": {},
   "outputs": [
    {
     "data": {
      "text/plain": [
       "array([[105,  10],\n",
       "       [ 11,  45]])"
      ]
     },
     "execution_count": 39,
     "metadata": {},
     "output_type": "execute_result"
    }
   ],
   "source": [
    "cm_4=confusion_matrix(y_test,y_pred_4)\n",
    "cm_4"
   ]
  },
  {
   "cell_type": "code",
   "execution_count": 40,
   "id": "4bf3ae33-4b71-4da2-9d55-c06f3434f4af",
   "metadata": {},
   "outputs": [
    {
     "data": {
      "text/plain": [
       "0.8771929824561403"
      ]
     },
     "execution_count": 40,
     "metadata": {},
     "output_type": "execute_result"
    }
   ],
   "source": [
    "accuracy_4 = accuracy_score(y_test, y_pred_4)\n",
    "accuracy_4"
   ]
  },
  {
   "cell_type": "code",
   "execution_count": 41,
   "id": "3a74394b-b710-44e6-80ba-d749cf59891e",
   "metadata": {},
   "outputs": [
    {
     "data": {
      "text/plain": [
       "0.8181818181818182"
      ]
     },
     "execution_count": 41,
     "metadata": {},
     "output_type": "execute_result"
    }
   ],
   "source": [
    "precision_4 = precision_score(y_test, y_pred_4)\n",
    "precision_4"
   ]
  },
  {
   "cell_type": "code",
   "execution_count": 42,
   "id": "8950295f-98f4-4ff6-98da-c5d046c671ce",
   "metadata": {},
   "outputs": [
    {
     "data": {
      "text/plain": [
       "0.8108108108108109"
      ]
     },
     "execution_count": 42,
     "metadata": {},
     "output_type": "execute_result"
    }
   ],
   "source": [
    "f1_4 = f1_score(y_test, y_pred_4)\n",
    "f1_4"
   ]
  },
  {
   "cell_type": "code",
   "execution_count": 43,
   "id": "76ea07da-9bdb-4c28-ba05-fbd7c4de051c",
   "metadata": {},
   "outputs": [
    {
     "data": {
      "text/plain": [
       "0.8035714285714286"
      ]
     },
     "execution_count": 43,
     "metadata": {},
     "output_type": "execute_result"
    }
   ],
   "source": [
    "recall_4 = recall_score(y_test, y_pred_4)\n",
    "recall_4"
   ]
  },
  {
   "cell_type": "code",
   "execution_count": 44,
   "id": "d0d46849-eee2-4a04-a450-b05363aaace8",
   "metadata": {},
   "outputs": [],
   "source": [
    "scores['SVM'] = [f1_4, precision_4, accuracy_4, recall_4]"
   ]
  },
  {
   "cell_type": "code",
   "execution_count": 45,
   "id": "4dc41cad-f202-421c-996c-d5f04d03b5b7",
   "metadata": {},
   "outputs": [
    {
     "data": {
      "text/html": [
       "<div>\n",
       "<style scoped>\n",
       "    .dataframe tbody tr th:only-of-type {\n",
       "        vertical-align: middle;\n",
       "    }\n",
       "\n",
       "    .dataframe tbody tr th {\n",
       "        vertical-align: top;\n",
       "    }\n",
       "\n",
       "    .dataframe thead th {\n",
       "        text-align: right;\n",
       "    }\n",
       "</style>\n",
       "<table border=\"1\" class=\"dataframe\">\n",
       "  <thead>\n",
       "    <tr style=\"text-align: right;\">\n",
       "      <th></th>\n",
       "      <th>Logistic_Regression</th>\n",
       "      <th>Decision Trees</th>\n",
       "      <th>Random Forest</th>\n",
       "      <th>SVM</th>\n",
       "    </tr>\n",
       "  </thead>\n",
       "  <tbody>\n",
       "    <tr>\n",
       "      <th>f1_score</th>\n",
       "      <td>0.929825</td>\n",
       "      <td>0.851852</td>\n",
       "      <td>0.897196</td>\n",
       "      <td>0.810811</td>\n",
       "    </tr>\n",
       "    <tr>\n",
       "      <th>Precision</th>\n",
       "      <td>0.913793</td>\n",
       "      <td>0.884615</td>\n",
       "      <td>0.941176</td>\n",
       "      <td>0.818182</td>\n",
       "    </tr>\n",
       "    <tr>\n",
       "      <th>Accuracy</th>\n",
       "      <td>0.953216</td>\n",
       "      <td>0.906433</td>\n",
       "      <td>0.935673</td>\n",
       "      <td>0.877193</td>\n",
       "    </tr>\n",
       "    <tr>\n",
       "      <th>recall</th>\n",
       "      <td>0.946429</td>\n",
       "      <td>0.821429</td>\n",
       "      <td>0.857143</td>\n",
       "      <td>0.803571</td>\n",
       "    </tr>\n",
       "  </tbody>\n",
       "</table>\n",
       "</div>"
      ],
      "text/plain": [
       "           Logistic_Regression  Decision Trees  Random Forest       SVM\n",
       "f1_score              0.929825        0.851852       0.897196  0.810811\n",
       "Precision             0.913793        0.884615       0.941176  0.818182\n",
       "Accuracy              0.953216        0.906433       0.935673  0.877193\n",
       "recall                0.946429        0.821429       0.857143  0.803571"
      ]
     },
     "execution_count": 45,
     "metadata": {},
     "output_type": "execute_result"
    }
   ],
   "source": [
    "scores.head()"
   ]
  },
  {
   "cell_type": "markdown",
   "id": "3cf2eac9-b98c-478a-9d41-7a4beeec7e56",
   "metadata": {},
   "source": [
    "## 5. KNN (K-Nearest Neighbours)"
   ]
  },
  {
   "cell_type": "markdown",
   "id": "46a10108-e0ac-452d-8c3f-446592162c58",
   "metadata": {},
   "source": [
    "- Finding the best k vlaue for the model"
   ]
  },
  {
   "cell_type": "code",
   "execution_count": 48,
   "id": "273efcb7-0da2-4a56-8d83-436dc0a239ab",
   "metadata": {},
   "outputs": [
    {
     "name": "stdout",
     "output_type": "stream",
     "text": [
      "Best k value: 17\n",
      "Best cross-validation accuracy: 0.9119620253164558\n"
     ]
    },
    {
     "data": {
      "image/png": "[encoded data removed]",
      "text/plain": [
       "<Figure size 1000x600 with 1 Axes>"
      ]
     },
     "metadata": {},
     "output_type": "display_data"
    },
    {
     "name": "stdout",
     "output_type": "stream",
     "text": [
      "Test set accuracy with best k (17): 0.8771929824561403\n"
     ]
    }
   ],
   "source": [
    "from sklearn.model_selection import GridSearchCV\n",
    "\n",
    "k_values = np.arange(1, 51, 2)  \n",
    "\n",
    "param_grid = {'n_neighbors': k_values}\n",
    "knn = KNeighborsClassifier()\n",
    "grid_search = GridSearchCV(knn, param_grid, cv=5, scoring='accuracy')\n",
    "grid_search.fit(X_train, y_train)\n",
    "\n",
    "print(\"Best k value:\", grid_search.best_params_['n_neighbors'])\n",
    "print(\"Best cross-validation accuracy:\", grid_search.best_score_)\n",
    "\n",
    "cv_scores = grid_search.cv_results_['mean_test_score']\n",
    "plt.figure(figsize=(10, 6))\n",
    "plt.plot(k_values, cv_scores, marker='o', linestyle='dashed', color='b', markersize=10)\n",
    "plt.title('Cross-validation scores')\n",
    "plt.xlabel('k')\n",
    "plt.ylabel('Accuracy')\n",
    "plt.xticks(k_values)\n",
    "plt.grid(True)\n",
    "plt.show()\n",
    "\n",
    "best_k = grid_search.best_params_['n_neighbors']\n",
    "knn_best = KNeighborsClassifier(n_neighbors=best_k)\n",
    "knn_best.fit(X_train, y_train)\n",
    "test_accuracy = knn_best.score(X_test, y_test)\n",
    "print(f\"Test set accuracy with best k ({best_k}): {test_accuracy}\")"
   ]
  },
  {
   "cell_type": "code",
   "execution_count": 49,
   "id": "627f80ac-c369-4a0c-84c6-785ae638b990",
   "metadata": {},
   "outputs": [],
   "source": [
    "k = 17\n",
    "model_5 = KNeighborsClassifier(n_neighbors=k)\n",
    "model_5.fit(X_train, y_train)\n",
    "y_pred_5 = model_5.predict(X_test)"
   ]
  },
  {
   "cell_type": "code",
   "execution_count": 50,
   "id": "c41a0da2-4457-4cad-acd8-cf731737f5f4",
   "metadata": {},
   "outputs": [
    {
     "data": {
      "text/plain": [
       "array([[104,  11],\n",
       "       [ 10,  46]])"
      ]
     },
     "execution_count": 50,
     "metadata": {},
     "output_type": "execute_result"
    }
   ],
   "source": [
    "cm_5=confusion_matrix(y_test,y_pred_5)\n",
    "cm_5"
   ]
  },
  {
   "cell_type": "code",
   "execution_count": 51,
   "id": "5b46be93-9e0a-4dd4-b73c-677778e67a08",
   "metadata": {},
   "outputs": [
    {
     "data": {
      "text/plain": [
       "0.8771929824561403"
      ]
     },
     "execution_count": 51,
     "metadata": {},
     "output_type": "execute_result"
    }
   ],
   "source": [
    "accuracy_5 = accuracy_score(y_test, y_pred_5)\n",
    "accuracy_5"
   ]
  },
  {
   "cell_type": "code",
   "execution_count": 52,
   "id": "430976b2-ecf7-428a-8b8e-f2d54603ef98",
   "metadata": {},
   "outputs": [
    {
     "data": {
      "text/plain": [
       "0.8070175438596491"
      ]
     },
     "execution_count": 52,
     "metadata": {},
     "output_type": "execute_result"
    }
   ],
   "source": [
    "precision_5 = precision_score(y_test, y_pred_5)\n",
    "precision_5"
   ]
  },
  {
   "cell_type": "code",
   "execution_count": 53,
   "id": "aebe368e-70a2-4734-a2a4-43f812def851",
   "metadata": {},
   "outputs": [
    {
     "data": {
      "text/plain": [
       "0.8141592920353982"
      ]
     },
     "execution_count": 53,
     "metadata": {},
     "output_type": "execute_result"
    }
   ],
   "source": [
    "f1_5 = f1_score(y_test, y_pred_5)\n",
    "f1_5"
   ]
  },
  {
   "cell_type": "code",
   "execution_count": 54,
   "id": "d85cf3dc-99ef-4520-843f-24338d6ff02b",
   "metadata": {},
   "outputs": [
    {
     "data": {
      "text/plain": [
       "0.8214285714285714"
      ]
     },
     "execution_count": 54,
     "metadata": {},
     "output_type": "execute_result"
    }
   ],
   "source": [
    "recall_5 = recall_score(y_test, y_pred_5)\n",
    "recall_5"
   ]
  },
  {
   "cell_type": "code",
   "execution_count": 55,
   "id": "a36da084-6835-479c-80c9-205038607183",
   "metadata": {},
   "outputs": [],
   "source": [
    "scores['K-NN'] = [f1_5, precision_5, accuracy_5, recall_5]"
   ]
  },
  {
   "cell_type": "code",
   "execution_count": 56,
   "id": "0f75d67a-c243-44d7-837a-67d09dccb693",
   "metadata": {},
   "outputs": [
    {
     "data": {
      "text/html": [
       "<div>\n",
       "<style scoped>\n",
       "    .dataframe tbody tr th:only-of-type {\n",
       "        vertical-align: middle;\n",
       "    }\n",
       "\n",
       "    .dataframe tbody tr th {\n",
       "        vertical-align: top;\n",
       "    }\n",
       "\n",
       "    .dataframe thead th {\n",
       "        text-align: right;\n",
       "    }\n",
       "</style>\n",
       "<table border=\"1\" class=\"dataframe\">\n",
       "  <thead>\n",
       "    <tr style=\"text-align: right;\">\n",
       "      <th></th>\n",
       "      <th>Logistic_Regression</th>\n",
       "      <th>Decision Trees</th>\n",
       "      <th>Random Forest</th>\n",
       "      <th>SVM</th>\n",
       "      <th>K-NN</th>\n",
       "    </tr>\n",
       "  </thead>\n",
       "  <tbody>\n",
       "    <tr>\n",
       "      <th>f1_score</th>\n",
       "      <td>0.929825</td>\n",
       "      <td>0.851852</td>\n",
       "      <td>0.897196</td>\n",
       "      <td>0.810811</td>\n",
       "      <td>0.814159</td>\n",
       "    </tr>\n",
       "    <tr>\n",
       "      <th>Precision</th>\n",
       "      <td>0.913793</td>\n",
       "      <td>0.884615</td>\n",
       "      <td>0.941176</td>\n",
       "      <td>0.818182</td>\n",
       "      <td>0.807018</td>\n",
       "    </tr>\n",
       "    <tr>\n",
       "      <th>Accuracy</th>\n",
       "      <td>0.953216</td>\n",
       "      <td>0.906433</td>\n",
       "      <td>0.935673</td>\n",
       "      <td>0.877193</td>\n",
       "      <td>0.877193</td>\n",
       "    </tr>\n",
       "    <tr>\n",
       "      <th>recall</th>\n",
       "      <td>0.946429</td>\n",
       "      <td>0.821429</td>\n",
       "      <td>0.857143</td>\n",
       "      <td>0.803571</td>\n",
       "      <td>0.821429</td>\n",
       "    </tr>\n",
       "  </tbody>\n",
       "</table>\n",
       "</div>"
      ],
      "text/plain": [
       "           Logistic_Regression  Decision Trees  Random Forest       SVM  \\\n",
       "f1_score              0.929825        0.851852       0.897196  0.810811   \n",
       "Precision             0.913793        0.884615       0.941176  0.818182   \n",
       "Accuracy              0.953216        0.906433       0.935673  0.877193   \n",
       "recall                0.946429        0.821429       0.857143  0.803571   \n",
       "\n",
       "               K-NN  \n",
       "f1_score   0.814159  \n",
       "Precision  0.807018  \n",
       "Accuracy   0.877193  \n",
       "recall     0.821429  "
      ]
     },
     "execution_count": 56,
     "metadata": {},
     "output_type": "execute_result"
    }
   ],
   "source": [
    "scores.head()"
   ]
  },
  {
   "cell_type": "markdown",
   "id": "8122f193-76a7-4895-afb9-2dd03b409035",
   "metadata": {},
   "source": [
    "## 6. Naive Bayes"
   ]
  },
  {
   "cell_type": "code",
   "execution_count": 58,
   "id": "b685434b-9c2e-4b6a-80fe-fd58d4000f05",
   "metadata": {},
   "outputs": [],
   "source": [
    "model_6 = GaussianNB()\n",
    "model_6.fit(X_train, y_train)\n",
    "y_pred_6 = model_6.predict(X_test)"
   ]
  },
  {
   "cell_type": "code",
   "execution_count": 59,
   "id": "8f9bb181-2e56-4dca-a1fd-e629768a27cf",
   "metadata": {},
   "outputs": [
    {
     "data": {
      "text/plain": [
       "array([[113,   2],\n",
       "       [  7,  49]])"
      ]
     },
     "execution_count": 59,
     "metadata": {},
     "output_type": "execute_result"
    }
   ],
   "source": [
    "cm_6=confusion_matrix(y_test,y_pred_6)\n",
    "cm_6"
   ]
  },
  {
   "cell_type": "code",
   "execution_count": 60,
   "id": "58a2ffea-db0c-4146-ac7d-bd2bdffc14b0",
   "metadata": {},
   "outputs": [
    {
     "data": {
      "text/plain": [
       "0.9473684210526315"
      ]
     },
     "execution_count": 60,
     "metadata": {},
     "output_type": "execute_result"
    }
   ],
   "source": [
    "accuracy_6 = accuracy_score(y_test, y_pred_6)\n",
    "accuracy_6"
   ]
  },
  {
   "cell_type": "code",
   "execution_count": 61,
   "id": "95559095-3365-4447-b2a8-6e3a6901862a",
   "metadata": {},
   "outputs": [
    {
     "data": {
      "text/plain": [
       "0.9607843137254902"
      ]
     },
     "execution_count": 61,
     "metadata": {},
     "output_type": "execute_result"
    }
   ],
   "source": [
    "precision_6 = precision_score(y_test, y_pred_6)\n",
    "precision_6"
   ]
  },
  {
   "cell_type": "code",
   "execution_count": 62,
   "id": "0e86c0ec-430b-4eae-9e29-884e51696f15",
   "metadata": {},
   "outputs": [
    {
     "data": {
      "text/plain": [
       "0.9158878504672897"
      ]
     },
     "execution_count": 62,
     "metadata": {},
     "output_type": "execute_result"
    }
   ],
   "source": [
    "f1_6 = f1_score(y_test, y_pred_6)\n",
    "f1_6"
   ]
  },
  {
   "cell_type": "code",
   "execution_count": 63,
   "id": "acb922d7-5dfe-4ce3-8f2c-2ceb3634b7c0",
   "metadata": {},
   "outputs": [
    {
     "data": {
      "text/plain": [
       "0.875"
      ]
     },
     "execution_count": 63,
     "metadata": {},
     "output_type": "execute_result"
    }
   ],
   "source": [
    "recall_6 = recall_score(y_test, y_pred_6)\n",
    "recall_6"
   ]
  },
  {
   "cell_type": "code",
   "execution_count": 64,
   "id": "71a90a45-aee5-4e99-bd42-ba3c24bee372",
   "metadata": {},
   "outputs": [],
   "source": [
    "scores['Naive Bayes'] = [f1_6, precision_6, accuracy_6, recall_6]"
   ]
  },
  {
   "cell_type": "code",
   "execution_count": 65,
   "id": "a7532c88-a2b4-4338-8223-adba8d1cc77c",
   "metadata": {},
   "outputs": [
    {
     "data": {
      "text/html": [
       "<div>\n",
       "<style scoped>\n",
       "    .dataframe tbody tr th:only-of-type {\n",
       "        vertical-align: middle;\n",
       "    }\n",
       "\n",
       "    .dataframe tbody tr th {\n",
       "        vertical-align: top;\n",
       "    }\n",
       "\n",
       "    .dataframe thead th {\n",
       "        text-align: right;\n",
       "    }\n",
       "</style>\n",
       "<table border=\"1\" class=\"dataframe\">\n",
       "  <thead>\n",
       "    <tr style=\"text-align: right;\">\n",
       "      <th></th>\n",
       "      <th>Logistic_Regression</th>\n",
       "      <th>Decision Trees</th>\n",
       "      <th>Random Forest</th>\n",
       "      <th>SVM</th>\n",
       "      <th>K-NN</th>\n",
       "      <th>Naive Bayes</th>\n",
       "    </tr>\n",
       "  </thead>\n",
       "  <tbody>\n",
       "    <tr>\n",
       "      <th>f1_score</th>\n",
       "      <td>0.929825</td>\n",
       "      <td>0.851852</td>\n",
       "      <td>0.897196</td>\n",
       "      <td>0.810811</td>\n",
       "      <td>0.814159</td>\n",
       "      <td>0.915888</td>\n",
       "    </tr>\n",
       "    <tr>\n",
       "      <th>Precision</th>\n",
       "      <td>0.913793</td>\n",
       "      <td>0.884615</td>\n",
       "      <td>0.941176</td>\n",
       "      <td>0.818182</td>\n",
       "      <td>0.807018</td>\n",
       "      <td>0.960784</td>\n",
       "    </tr>\n",
       "    <tr>\n",
       "      <th>Accuracy</th>\n",
       "      <td>0.953216</td>\n",
       "      <td>0.906433</td>\n",
       "      <td>0.935673</td>\n",
       "      <td>0.877193</td>\n",
       "      <td>0.877193</td>\n",
       "      <td>0.947368</td>\n",
       "    </tr>\n",
       "    <tr>\n",
       "      <th>recall</th>\n",
       "      <td>0.946429</td>\n",
       "      <td>0.821429</td>\n",
       "      <td>0.857143</td>\n",
       "      <td>0.803571</td>\n",
       "      <td>0.821429</td>\n",
       "      <td>0.875000</td>\n",
       "    </tr>\n",
       "  </tbody>\n",
       "</table>\n",
       "</div>"
      ],
      "text/plain": [
       "           Logistic_Regression  Decision Trees  Random Forest       SVM  \\\n",
       "f1_score              0.929825        0.851852       0.897196  0.810811   \n",
       "Precision             0.913793        0.884615       0.941176  0.818182   \n",
       "Accuracy              0.953216        0.906433       0.935673  0.877193   \n",
       "recall                0.946429        0.821429       0.857143  0.803571   \n",
       "\n",
       "               K-NN  Naive Bayes  \n",
       "f1_score   0.814159     0.915888  \n",
       "Precision  0.807018     0.960784  \n",
       "Accuracy   0.877193     0.947368  \n",
       "recall     0.821429     0.875000  "
      ]
     },
     "execution_count": 65,
     "metadata": {},
     "output_type": "execute_result"
    }
   ],
   "source": [
    "scores.head()"
   ]
  },
  {
   "cell_type": "markdown",
   "id": "e98004cf-14e4-4bc7-8605-3d861e5126cb",
   "metadata": {},
   "source": [
    "## 7. GBM (Gradient Boosting Machines)"
   ]
  },
  {
   "cell_type": "code",
   "execution_count": 67,
   "id": "8640cd51-73a4-41ae-83f7-5a25a23eeb72",
   "metadata": {},
   "outputs": [],
   "source": [
    "model_7 = GradientBoostingClassifier(n_estimators=1000, max_depth=18, learning_rate=0.05, random_state=40)\n",
    "model_7.fit(X_train, y_train)\n",
    "y_pred_7 = model_7.predict(X_test)"
   ]
  },
  {
   "cell_type": "code",
   "execution_count": 68,
   "id": "777b724e-e3d7-4261-86ec-98387ac73ae4",
   "metadata": {},
   "outputs": [
    {
     "data": {
      "text/plain": [
       "array([[110,   5],\n",
       "       [  6,  50]])"
      ]
     },
     "execution_count": 68,
     "metadata": {},
     "output_type": "execute_result"
    }
   ],
   "source": [
    "cm_7=confusion_matrix(y_test,y_pred_7)\n",
    "cm_7"
   ]
  },
  {
   "cell_type": "code",
   "execution_count": 69,
   "id": "c189b227-d078-49c3-9f44-0745d3b2b021",
   "metadata": {},
   "outputs": [
    {
     "data": {
      "text/plain": [
       "0.935672514619883"
      ]
     },
     "execution_count": 69,
     "metadata": {},
     "output_type": "execute_result"
    }
   ],
   "source": [
    "accuracy_7 = accuracy_score(y_test, y_pred_7)\n",
    "accuracy_7"
   ]
  },
  {
   "cell_type": "code",
   "execution_count": 70,
   "id": "32366f09-007e-4d0f-9b42-cf42aa15c87d",
   "metadata": {},
   "outputs": [
    {
     "data": {
      "text/plain": [
       "0.9090909090909091"
      ]
     },
     "execution_count": 70,
     "metadata": {},
     "output_type": "execute_result"
    }
   ],
   "source": [
    "precision_7 = precision_score(y_test, y_pred_7)\n",
    "precision_7"
   ]
  },
  {
   "cell_type": "code",
   "execution_count": 71,
   "id": "e415f760-9161-4d4e-89b6-978242dc1d44",
   "metadata": {},
   "outputs": [
    {
     "data": {
      "text/plain": [
       "0.9009009009009009"
      ]
     },
     "execution_count": 71,
     "metadata": {},
     "output_type": "execute_result"
    }
   ],
   "source": [
    "f1_7 = f1_score(y_test, y_pred_7)\n",
    "f1_7"
   ]
  },
  {
   "cell_type": "code",
   "execution_count": 72,
   "id": "48a6e0b4-ed6e-4048-9c4e-a5a60bce326e",
   "metadata": {},
   "outputs": [
    {
     "data": {
      "text/plain": [
       "0.8928571428571429"
      ]
     },
     "execution_count": 72,
     "metadata": {},
     "output_type": "execute_result"
    }
   ],
   "source": [
    "recall_7 = recall_score(y_test, y_pred_7)\n",
    "recall_7"
   ]
  },
  {
   "cell_type": "code",
   "execution_count": 73,
   "id": "5bbbd279-8890-4154-95ec-5e8038324f87",
   "metadata": {},
   "outputs": [],
   "source": [
    "scores['GBM'] = [f1_7, precision_7, accuracy_7, recall_7]"
   ]
  },
  {
   "cell_type": "code",
   "execution_count": 74,
   "id": "b155ed53-dd08-4cd1-8fe1-422c80e5d26c",
   "metadata": {},
   "outputs": [
    {
     "data": {
      "text/html": [
       "<div>\n",
       "<style scoped>\n",
       "    .dataframe tbody tr th:only-of-type {\n",
       "        vertical-align: middle;\n",
       "    }\n",
       "\n",
       "    .dataframe tbody tr th {\n",
       "        vertical-align: top;\n",
       "    }\n",
       "\n",
       "    .dataframe thead th {\n",
       "        text-align: right;\n",
       "    }\n",
       "</style>\n",
       "<table border=\"1\" class=\"dataframe\">\n",
       "  <thead>\n",
       "    <tr style=\"text-align: right;\">\n",
       "      <th></th>\n",
       "      <th>Logistic_Regression</th>\n",
       "      <th>Decision Trees</th>\n",
       "      <th>Random Forest</th>\n",
       "      <th>SVM</th>\n",
       "      <th>K-NN</th>\n",
       "      <th>Naive Bayes</th>\n",
       "      <th>GBM</th>\n",
       "    </tr>\n",
       "  </thead>\n",
       "  <tbody>\n",
       "    <tr>\n",
       "      <th>f1_score</th>\n",
       "      <td>0.929825</td>\n",
       "      <td>0.851852</td>\n",
       "      <td>0.897196</td>\n",
       "      <td>0.810811</td>\n",
       "      <td>0.814159</td>\n",
       "      <td>0.915888</td>\n",
       "      <td>0.900901</td>\n",
       "    </tr>\n",
       "    <tr>\n",
       "      <th>Precision</th>\n",
       "      <td>0.913793</td>\n",
       "      <td>0.884615</td>\n",
       "      <td>0.941176</td>\n",
       "      <td>0.818182</td>\n",
       "      <td>0.807018</td>\n",
       "      <td>0.960784</td>\n",
       "      <td>0.909091</td>\n",
       "    </tr>\n",
       "    <tr>\n",
       "      <th>Accuracy</th>\n",
       "      <td>0.953216</td>\n",
       "      <td>0.906433</td>\n",
       "      <td>0.935673</td>\n",
       "      <td>0.877193</td>\n",
       "      <td>0.877193</td>\n",
       "      <td>0.947368</td>\n",
       "      <td>0.935673</td>\n",
       "    </tr>\n",
       "    <tr>\n",
       "      <th>recall</th>\n",
       "      <td>0.946429</td>\n",
       "      <td>0.821429</td>\n",
       "      <td>0.857143</td>\n",
       "      <td>0.803571</td>\n",
       "      <td>0.821429</td>\n",
       "      <td>0.875000</td>\n",
       "      <td>0.892857</td>\n",
       "    </tr>\n",
       "  </tbody>\n",
       "</table>\n",
       "</div>"
      ],
      "text/plain": [
       "           Logistic_Regression  Decision Trees  Random Forest       SVM  \\\n",
       "f1_score              0.929825        0.851852       0.897196  0.810811   \n",
       "Precision             0.913793        0.884615       0.941176  0.818182   \n",
       "Accuracy              0.953216        0.906433       0.935673  0.877193   \n",
       "recall                0.946429        0.821429       0.857143  0.803571   \n",
       "\n",
       "               K-NN  Naive Bayes       GBM  \n",
       "f1_score   0.814159     0.915888  0.900901  \n",
       "Precision  0.807018     0.960784  0.909091  \n",
       "Accuracy   0.877193     0.947368  0.935673  \n",
       "recall     0.821429     0.875000  0.892857  "
      ]
     },
     "execution_count": 74,
     "metadata": {},
     "output_type": "execute_result"
    }
   ],
   "source": [
    "scores.head()"
   ]
  },
  {
   "cell_type": "code",
   "execution_count": 177,
   "id": "efb779d2-a066-4fd1-8614-65b6f2778b38",
   "metadata": {},
   "outputs": [
    {
     "data": {
      "image/png": "[encoded data removed]",
      "text/plain": [
       "<Figure size 1000x600 with 1 Axes>"
      ]
     },
     "metadata": {},
     "output_type": "display_data"
    }
   ],
   "source": [
    "models = ['Logistic Regression', 'Decision Trees', 'Random Forest', \n",
    "          'SVM', 'K-NN', 'Naive Bayes', 'GBM']\n",
    "recalls = [0.946429, 0.821429, 0.857143, 0.803571, 0.821429, 0.875000, 0.892857]\n",
    "\n",
    "# Create a line plot for recall scores\n",
    "plt.figure(figsize=(10, 6))\n",
    "plt.plot(models, recalls, marker='o', linestyle='-', color='b', label='Recall')\n",
    "plt.title('Recall Scores of Machine Learning Models', fontsize=16)\n",
    "plt.xlabel('Models', fontsize=12)\n",
    "plt.ylabel('Recall', fontsize=12)\n",
    "plt.xticks(rotation=45)\n",
    "plt.grid(True)\n",
    "plt.legend()\n",
    "plt.tight_layout()\n",
    "plt.show()"
   ]
  },
  {
   "cell_type": "markdown",
   "id": "69071c52-8b77-4b7a-b3fa-e7bdd5356389",
   "metadata": {},
   "source": [
    "## Conclusion:\n",
    "\n",
    "- If we prioritize balanced performance across precision, recall, and f1_score, Logistic Regression, Random Forest, and Naive Bayes are strong candidates.\n",
    "- GBM is also effective, particularly in scenarios where high precision is desired.\n",
    "- SVM and K-NN may require further tuning or consideration of alternative models based on specific use case requirements."
   ]
  },
  {
   "cell_type": "markdown",
   "id": "2069aa8c-2b6e-4612-b4e7-fadfa3736308",
   "metadata": {},
   "source": [
    "## In the context of medical diagnosis, minimizing false negatives (where a positive condition is incorrectly predicted as negative) is paramount. Therefore, prioritizing the recall score is crucial as it reflects the model's capability to reduce false negatives. Consequently, among the seven models assessed, Logistic Regression emerges as the most favorable choice."
   ]
  }
 ],
 "metadata": {
  "kernelspec": {
   "display_name": "Python 3 (ipykernel)",
   "language": "python",
   "name": "python3"
  },
  "language_info": {
   "codemirror_mode": {
    "name": "ipython",
    "version": 3
   },
   "file_extension": ".py",
   "mimetype": "text/x-python",
   "name": "python",
   "nbconvert_exporter": "python",
   "pygments_lexer": "ipython3",
   "version": "3.11.6"
  }
 },
 "nbformat": 4,
 "nbformat_minor": 5
}
